{
 "cells": [
  {
   "cell_type": "code",
   "execution_count": 1,
   "metadata": {},
   "outputs": [
    {
     "name": "stdout",
     "output_type": "stream",
     "text": [
      " * Serving Flask app '__main__' (lazy loading)\n",
      " * Environment: production\n",
      "\u001b[31m   WARNING: This is a development server. Do not use it in a production deployment.\u001b[0m\n",
      "\u001b[2m   Use a production WSGI server instead.\u001b[0m\n",
      " * Debug mode: off\n"
     ]
    },
    {
     "name": "stderr",
     "output_type": "stream",
     "text": [
      " * Running on http://127.0.0.1:5997 (Press CTRL+C to quit)\n",
      "127.0.0.1 - - [21/Jun/2022 17:45:16] \"GET / HTTP/1.1\" 200 -\n",
      "127.0.0.1 - - [21/Jun/2022 17:45:19] \"GET /static/css/style2.css HTTP/1.1\" 304 -\n",
      "127.0.0.1 - - [21/Jun/2022 17:45:19] \"GET /static/js/main.js HTTP/1.1\" 304 -\n",
      "127.0.0.1 - - [21/Jun/2022 17:45:19] \"GET /static/js/jquery-3.6.0.min.js HTTP/1.1\" 304 -\n"
     ]
    },
    {
     "name": "stdout",
     "output_type": "stream",
     "text": [
      "street2.jpg\n",
      "1/1 [==============================] - 3s 3s/step\n"
     ]
    },
    {
     "name": "stderr",
     "output_type": "stream",
     "text": [
      "127.0.0.1 - - [21/Jun/2022 17:45:45] \"POST / HTTP/1.1\" 200 -\n",
      "127.0.0.1 - - [21/Jun/2022 17:45:46] \"GET /static/css/style2.css HTTP/1.1\" 304 -\n",
      "127.0.0.1 - - [21/Jun/2022 17:45:46] \"GET /static/js/jquery-3.6.0.min.js HTTP/1.1\" 304 -\n",
      "127.0.0.1 - - [21/Jun/2022 17:45:46] \"GET /street2.jpg HTTP/1.1\" 302 -\n",
      "127.0.0.1 - - [21/Jun/2022 17:45:46] \"GET /static/js/main.js HTTP/1.1\" 304 -\n",
      "127.0.0.1 - - [21/Jun/2022 17:45:47] \"GET /static/uploads/street2.jpg HTTP/1.1\" 200 -\n"
     ]
    }
   ],
   "source": [
    "from flask import Flask, render_template, request, url_for, redirect, flash\n",
    "import urllib.request\n",
    "import os\n",
    "from werkzeug.utils import secure_filename\n",
    "import numpy as np\n",
    "import matplotlib.pyplot as plt\n",
    "import cv2\n",
    "import tensorflow as tf\n",
    "from tensorflow import keras\n",
    "from keras.models import load_model\n",
    "from gevent.pywsgi import WSGIServer\n",
    "\n",
    "\n",
    "model = load_model('6Classes_model_transfar_learning3.h5')\n",
    "\n",
    "code = {'buildings':0, 'forest':1, 'glacier':2, 'mountain':3, 'sea':4, 'street':5}\n",
    "def getcode(n) : \n",
    "    for x , y in code.items() : \n",
    "        if n == y : \n",
    "            return x \n",
    "\n",
    "        \n",
    "app= Flask(__name__)\n",
    "app.secret_key= \"nooormamdouh65\"\n",
    "UPLOAD_FOLDER= 'static/uploads/'\n",
    "app.config['UPLOAD_FOLDER']= UPLOAD_FOLDER\n",
    "\n",
    "ALLOWED_EXTENSIONS= set(['png', 'jpg', 'jpeg', 'gif'])\n",
    "def allowed_file(filename):\n",
    "    return filename.split('.')[1].lower() in ALLOWED_EXTENSIONS\n",
    "\n",
    "\n",
    "@app.route('/')\n",
    "def homepage():\n",
    "    return render_template(\"index3.html\")\n",
    "\n",
    "@app.route('/', methods= ['POST'])    # دي معمول كده route زي ما ال methods= ['POST']  بتاعها لازم يكون '/' وال action اللي ال template اللي في ال form يعني الفانكشن دي هتشتغل مع ال POST أنا هنا هشتغل\n",
    "def upload_image():\n",
    "    if 'file' not in request.files:   # مش أسم تاني 'file' اللي أسمه type من نوع input فأنت كده في المكان الغلط او الفانكشن الغلط لأن الفانكشن دي بتشتغل علي التاج 'file' بتاعه مأسمهوش name ده لو ال file اللي نوعه input لو التاج ال    \n",
    "        flash('No File Part')\n",
    "        return redirect(request.url)\n",
    "\n",
    "    file= request.files['file']       # request template اللي في ال name=\"file\" الفايل او الصوره اللي هتتبعت هتبقي اللي جت من التاج اللي ال\n",
    "    if file.filename == '':           # فلو الفايل اللي اتبعت ماليهوش اسم يعني لو اسمه فاضي فمعني كده ان مافيش جاجه اتبعتت يعني مافيش صوره اتبعتت فبعد ازنك مافيش صوره اترفعت لينا وارجع تاني للصفحه الرأيسيه ارفعلي صوره تانيه\n",
    "        flash('No Image Selected For Uploading')\n",
    "        return redirect(request.url)  # فأرجعلي عليالصفحه الرأيسيه هاتلي صوره تانيه\n",
    "    \n",
    "    if file and allowed_file(file.filename):         # ALLOWED_EXTENSIONS بتوع extensions بتاع الصوره من ضمن ال extension موجود فيه صور فعلاً وكمان اسم ال file تب لو ال\n",
    "      \n",
    "        filename= secure_filename(file.filename)     # بتاع الصوره secure_filename يبقي اسم الصوره هو ال \n",
    "        print(filename)\n",
    "        file.save(os.path.join(app.config['UPLOAD_FOLDER'], filename))     # ['static/uploads/أسم الصوره'] واحفظلي الصوره في المسار ده\n",
    "        flash('Image Succuessfully Uploaded & Displayed Below')            # render_template وقتها بقي قولي أن الصوره فعلاً اترفعت وسيتم عرضها في الاسفل مباشراً وفعلا هروح اعرضها ب\n",
    "    \n",
    "\n",
    "        img_array= plt.imread(file)        # read image as array\n",
    "        s= 100\n",
    "        img_resize= cv2.resize(img_array, (s, s))\n",
    "        img_gray= cv2.cvtColor(img_resize, cv2.COLOR_RGB2GRAY) \n",
    "        image_shape = (s, s, 1)\n",
    "        img_gray = img_gray.reshape(1, *image_shape)\n",
    "        test_img= img_gray.repeat(3, axis=-1)                # I will convert the images channel from 1 to 3 to be suitable with the vgg16 (pre-trained model) channels because the pre-trained model take only the (RGB 3 channels images)\n",
    "        # print(test_img.shape)\n",
    "        test_img= test_img / 255        # to normalize image\n",
    "        y_pred = model.predict(test_img)\n",
    "        # labels= ['buildings', 'forest', 'glacier', 'mountain', 'sea', 'street']\n",
    "        # arg_max= np.argmax(y_pred, axis=1)\n",
    "        # print(arg_max)\n",
    "        # pred_result= labels[arg_max[0]]\n",
    "        pred_result= getcode(np.argmax(y_pred, axis=1))\n",
    "    \n",
    "        return render_template('index3.html', filename= filename, pred_result= pred_result)\n",
    "    \n",
    "    else:\n",
    "        flash('The uploaded image not in this types:  [\"png\", \"jpg\", \"jpeg\", \"gif\"]')       # ALLOWED_EXTENSIONS بتوع extensions موجود فيه صور فعلاً ولكن الصور مش من ضمن ال file تب لو ال\n",
    "        return redirect(request.url)        # فأرجعلي تاني علي الصفحه الرأيسيه حملي صوره تانيه تكون من الأنواع المذكورة\n",
    "    \n",
    "\n",
    "# @app.route('/display/<filename>')\n",
    "@app.route('/<filename>')\n",
    "def display_image(filename):\n",
    "    return redirect(url_for('static', filename= 'uploads/' + filename))\n",
    "\n",
    "\n",
    "if __name__ == '__main__':\n",
    "    app.run(port =5997)\n"
   ]
  },
  {
   "cell_type": "code",
   "execution_count": null,
   "metadata": {},
   "outputs": [],
   "source": []
  }
 ],
 "metadata": {
  "kernelspec": {
   "display_name": "Python 3.9.6 ('.venv': venv)",
   "language": "python",
   "name": "python3"
  },
  "language_info": {
   "codemirror_mode": {
    "name": "ipython",
    "version": 3
   },
   "file_extension": ".py",
   "mimetype": "text/x-python",
   "name": "python",
   "nbconvert_exporter": "python",
   "pygments_lexer": "ipython3",
   "version": "3.9.6"
  },
  "orig_nbformat": 4,
  "vscode": {
   "interpreter": {
    "hash": "451016bc77ae19c43e9cfbd7d30c49b7b91d2acc07dbe4b3e7fca2cc896574c5"
   }
  }
 },
 "nbformat": 4,
 "nbformat_minor": 2
}
